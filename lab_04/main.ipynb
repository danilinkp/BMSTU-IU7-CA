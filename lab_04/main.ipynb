{
 "cells": [
  {
   "metadata": {
    "ExecuteTime": {
     "end_time": "2025-04-10T20:31:27.103521Z",
     "start_time": "2025-04-10T20:31:27.098908Z"
    }
   },
   "cell_type": "code",
   "source": [
    "import numpy as np\n",
    "from newton_method import newton_method\n",
    "from simpson_method import simpson_method\n",
    "from bisection_method import bisection_method\n",
    "\n",
    "import matplotlib.pyplot as plt"
   ],
   "id": "23755cf07e075bd6",
   "outputs": [],
   "execution_count": 17
  },
  {
   "metadata": {},
   "cell_type": "markdown",
   "source": [
    "### 1. Решение ситемы нелинейных уравнений.\n",
    "\n",
    "$$\n",
    "\\left\\{\n",
    "\\begin{flalign*}\n",
    "    &x^2 + y^2 + z^2 = 1 & \\\\\n",
    "    &2x^2 + y^2 - 4z = 0 & \\\\\n",
    "    &3x^2 - 4y + z^2 = 0 &\n",
    "\\end{flalign*}\n",
    "\\right.\n",
    "$$"
   ],
   "id": "aac0143dc9985e24"
  },
  {
   "metadata": {
    "ExecuteTime": {
     "end_time": "2025-04-10T20:31:27.134365Z",
     "start_time": "2025-04-10T20:31:27.121150Z"
    }
   },
   "cell_type": "code",
   "source": [
    "def F(x: np.ndarray) -> np.ndarray:\n",
    "    return np.array([x[0] ** 2 + x[1] ** 2 + x[2] ** 2 - 1,\n",
    "                     2 * x[0] ** 2 + x[1] ** 2 - 4 * x[2],\n",
    "                     3 * x[0] ** 2 - 4 * x[1] ** 2 + x[2]])\n",
    "\n",
    "\n",
    "def Jacobian(x: np.ndarray) -> np.ndarray:\n",
    "    return np.array([[2 * x[0], 2 * x[1], 2 * x[2]],\n",
    "                     [4 * x[0], 2 * x[1], -4],\n",
    "                     [6 * x[0], -4, 2 * x[2]]])\n",
    "\n",
    "\n",
    "zero_approximation = np.array([0.5, 0.5, 0.5])\n",
    "\n",
    "answer = newton_method(F, Jacobian, zero_approximation)\n",
    "print(f\"x = {answer[0]}, y = {answer[1]}, z = {answer[2]}\")"
   ],
   "id": "fccbe55ed19e565c",
   "outputs": [
    {
     "name": "stdout",
     "output_type": "stream",
     "text": [
      "x = 0.6772825960668983, y = 0.6543171947114743, z = 0.3363886052913158\n"
     ]
    }
   ],
   "execution_count": 18
  },
  {
   "metadata": {},
   "cell_type": "markdown",
   "source": [
    "### 2. При заданном значении функции Лапласа $\\Phi(x)$ найти ее аргумент *x*\n",
    "\n",
    "$$\n",
    "\\begin{flalign*}\n",
    "\\Phi(x) = \\frac{2}{\\sqrt{2\\pi}} \\int_0^x \\exp\\left(-\\frac{t^2}{2}\\right) \\, dt. &&\n",
    "\\end{flalign*}\n",
    "$$\n",
    "\n",
    "Метод половинного деления, метод Симпсона"
   ],
   "id": "97416a2cf29b18f2"
  },
  {
   "metadata": {
    "ExecuteTime": {
     "end_time": "2025-04-10T20:31:27.193054Z",
     "start_time": "2025-04-10T20:31:27.181366Z"
    }
   },
   "cell_type": "code",
   "source": [
    "def integral_function(t: float) -> float:\n",
    "    return np.exp(-(t ** 2) / 2)\n",
    "\n",
    "\n",
    "def Laplas(x: float, partitioning_step: int = 50) -> float:\n",
    "    integral = simpson_method(integral_function, 0, x, partitioning_step)\n",
    "    return 2 / np.sqrt(2 * np.pi) * integral\n",
    "\n",
    "\n",
    "# y = float(input(\"y = \"))\n",
    "y = 0.42\n",
    "x = np.linspace(-5, 5, 100)\n",
    "\n",
    "root = bisection_method(Laplas, min(x), max(x), y)\n",
    "\n",
    "print(f\"Значение аргумента для заданного y: {root}\")"
   ],
   "id": "b4370c80efa95f21",
   "outputs": [
    {
     "name": "stdout",
     "output_type": "stream",
     "text": [
      "Значение аргумента для заданного y: 0.556640625\n"
     ]
    }
   ],
   "execution_count": 19
  },
  {
   "metadata": {},
   "cell_type": "markdown",
   "source": [
    "### 3. Решить численно краевую задачу для дифференциального уравнения\n",
    "\n",
    "$$\n",
    "\\left\\{\n",
    "\\begin{flalign*}\n",
    "    &y'' - y^3 = x^2 & \\\\\n",
    "    &0 \\le x \\le 1& \\\\\n",
    "    &x = 0, y = 1 & \\\\\n",
    "    &x = 1, y = 3 &\n",
    "\\end{flalign*}\n",
    "\\right.\n",
    "$$"
   ],
   "id": "4f31b01b6d8231dc"
  },
  {
   "metadata": {
    "ExecuteTime": {
     "end_time": "2025-04-10T20:31:27.247033Z",
     "start_time": "2025-04-10T20:31:27.241497Z"
    }
   },
   "cell_type": "code",
   "source": [
    "x_0, y_0 = 0, 1\n",
    "x_1, y_1 = 1, 3\n",
    "\n",
    "N = 100\n",
    "h = (x_1 - x_0) / N\n",
    "\n",
    "difference_grid_x = np.linspace(x_0, x_1, N + 1)"
   ],
   "id": "5d96dbc91ee533f9",
   "outputs": [],
   "execution_count": 20
  },
  {
   "metadata": {},
   "cell_type": "markdown",
   "source": [
    "Аппроксимируя вторую производную разностным аналогом, получаем разностную схему\n",
    "\n",
    "$$\n",
    "\\left\\{\n",
    "\\begin{flalign*}\n",
    "    &\\frac{y_{n-1} - 2y_{n} + y_{n+1}}{h^2} - y_{n}^3 = x_{n}^2,   n = 1,2...N-1  \\\\\n",
    "    &y_{0} = 1 & \\\\\n",
    "    &y_{N} = 3 &\n",
    "\\end{flalign*}\n",
    "\\right.\n",
    "$$"
   ],
   "id": "641fd3ec5ba1cfcd"
  },
  {
   "metadata": {
    "ExecuteTime": {
     "end_time": "2025-04-10T20:31:27.311586Z",
     "start_time": "2025-04-10T20:31:27.294724Z"
    }
   },
   "cell_type": "code",
   "source": [
    "def f_start_statement(x_start: float) -> float:\n",
    "    return 2 * x_start + 1\n",
    "\n",
    "y_initial = f_start_statement(difference_grid_x)\n",
    "\n",
    "def f_differential(y_start: np.ndarray) -> np.ndarray:\n",
    "    funcs = np.zeros(N + 1)\n",
    "    funcs[0] = y_start[0] - 1\n",
    "    funcs[N] = y_start[-1] - 3\n",
    "    for n in range(1, N):\n",
    "        funcs[n] = ((y_start[n - 1] - 2 * y_start[n] + y_start[n + 1]) / h ** 2 - y_start[n] ** 3 -\n",
    "                    difference_grid_x[n] ** 2)\n",
    "\n",
    "    return funcs\n",
    "\n",
    "\n",
    "def Jacobian_differential(y_start: np.ndarray) -> np.ndarray:\n",
    "    jac = np.zeros((N + 1, N + 1))\n",
    "\n",
    "    jac[0, 0] = 1\n",
    "    jac[N, N] = 1\n",
    "\n",
    "    for n in range(1, N):\n",
    "        jac[n, n - 1] = 1 / h ** 2\n",
    "        jac[n, n] = -2 / h ** 2 - 3 * y_start[n] ** 2\n",
    "        jac[n, n + 1] = 1 / h ** 2\n",
    "\n",
    "    return jac\n",
    "\n",
    "\n",
    "result = newton_method(f_differential, Jacobian_differential, y_initial)"
   ],
   "id": "c53f5417a08e9677",
   "outputs": [],
   "execution_count": 21
  },
  {
   "metadata": {
    "ExecuteTime": {
     "end_time": "2025-04-10T20:32:41.333319Z",
     "start_time": "2025-04-10T20:32:41.135846Z"
    }
   },
   "cell_type": "code",
   "source": [
    "plt.plot(difference_grid_x, result)\n",
    "plt.xlabel('x')\n",
    "plt.ylabel('y(x)')\n",
    "plt.title('Решение краевой задачи')\n",
    "plt.show()"
   ],
   "id": "6ccfce5b99111c26",
   "outputs": [
    {
     "data": {
      "text/plain": [
       "<Figure size 640x480 with 1 Axes>"
      ],
      "image/png": "[encoded data removed]"
     },
     "metadata": {},
     "output_type": "display_data"
    }
   ],
   "execution_count": 23
  }
 ],
 "metadata": {
  "kernelspec": {
   "display_name": "Python 3",
   "language": "python",
   "name": "python3"
  },
  "language_info": {
   "codemirror_mode": {
    "name": "ipython",
    "version": 2
   },
   "file_extension": ".py",
   "mimetype": "text/x-python",
   "name": "python",
   "nbconvert_exporter": "python",
   "pygments_lexer": "ipython2",
   "version": "2.7.6"
  }
 },
 "nbformat": 4,
 "nbformat_minor": 5
}
