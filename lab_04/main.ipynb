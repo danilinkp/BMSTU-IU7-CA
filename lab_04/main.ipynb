{
 "cells": [
  {
   "metadata": {},
   "cell_type": "code",
   "source": [
    "import numpy as np\n",
    "import sympy as sym\n",
    "from newton_method import newton_method\n",
    "from simpson_method import simpson_method\n",
    "from bisection_method import bisection_method\n",
    "\n",
    "import matplotlib.pyplot as plt"
   ],
   "id": "23755cf07e075bd6",
   "outputs": [],
   "execution_count": null
  },
  {
   "metadata": {},
   "cell_type": "markdown",
   "source": [
    "### Решение ситемы нелинейных уравнений.\n",
    "\n",
    "$$\n",
    "\\left\\{\n",
    "\\begin{flalign*}\n",
    "    &x^2 + y^2 + z^2 = 1 & \\\\\n",
    "    &2x^2 + y^2 - 4z = 0 & \\\\\n",
    "    &3x^2 - 4y + z^2 = 0 &\n",
    "\\end{flalign*}\n",
    "\\right.\n",
    "$$\n",
    "\n"
   ],
   "id": "aac0143dc9985e24"
  },
  {
   "metadata": {},
   "cell_type": "code",
   "source": [
    "def F(x: np.ndarray) -> np.ndarray:\n",
    "    return np.array([x[0] ** 2 + x[1] ** 2 + x[2] ** 2 - 1,\n",
    "                       2 * x[0] ** 2 + x[1] ** 2 - 4 * x[2],\n",
    "                       3 * x[0] ** 2 - 4 * x[1] ** 2 + x[2]])\n",
    "\n",
    "\n",
    "def Jacobian(x: np.ndarray) -> np.ndarray:\n",
    "    return np.array([[2 * x[0], 2 * x[1], 2 * x[2]],\n",
    "                      [4 * x[0], 2 * x[1], -4],\n",
    "                      [6 * x[0], -4, 2 * x[2]]])\n",
    "\n",
    "\n",
    "zero_approximation = np.array([0.5, 0.5, 0.5])\n",
    "\n",
    "answer = newton_method(F, Jacobian, zero_approximation)\n",
    "print(f\"x = {answer[0]}, y = {answer[1]}, z = {answer[2]}\")"
   ],
   "id": "fccbe55ed19e565c",
   "outputs": [],
   "execution_count": null
  },
  {
   "metadata": {},
   "cell_type": "markdown",
   "source": [
    "### При заданном значении функции Лапласа $\\Phi(x)$ найти ее аргумент *x*\n",
    "\n",
    "$$\n",
    "\\hspace{-32em} \\Phi(x) = \\frac{2}{\\sqrt{2\\pi}} \\int_0^x \\exp\\left(-\\frac{t^2}{2}\\right) \\, dt.\n",
    "$$\n",
    "\n",
    "Метод половинного деления, метод Симпсона"
   ],
   "id": "97416a2cf29b18f2"
  },
  {
   "metadata": {},
   "cell_type": "code",
   "source": [
    "def integral_function(t: float) -> float:\n",
    "    return np.exp(-(t**2) / 2)\n",
    "\n",
    "def Laplas(x: float, partitioning_step: int = 50) -> float:\n",
    "    integral = simpson_method(integral_function, 0, x, partitioning_step)\n",
    "    return 2 / np.sqrt(2 * np.pi) * integral\n",
    "\n",
    "\n",
    "# y = float(input(\"y = \"))\n",
    "y = 0.42\n",
    "x = np.linspace(-5, 5, 100)\n",
    "\n",
    "root = bisection_method(Laplas, min(x), max(x), y)\n",
    "\n",
    "print(f\"Значение аргумента для заданного y: {root}\")"
   ],
   "id": "b4370c80efa95f21",
   "outputs": [],
   "execution_count": null
  },
  {
   "metadata": {},
   "cell_type": "markdown",
   "source": [
    "### Решить численно краевую задачу для дифференциального уравнения\n",
    "\n",
    "$$\n",
    "\\left\\{\n",
    "\\begin{flalign*}\n",
    "    &y'' - y^3 = x^2 & \\\\\n",
    "    &0 \\le x \\le 1& \\\\\n",
    "    &x = 0, y = 1 & \\\\\n",
    "    &x = 1, y = 3 &\n",
    "\\end{flalign*}\n",
    "\\right.\n",
    "$$"
   ],
   "id": "4f31b01b6d8231dc"
  },
  {
   "metadata": {},
   "cell_type": "code",
   "source": [
    "x_0, y_0 = 0, 1\n",
    "x_1, y_1 = 1, 3\n",
    "\n",
    "N = 15\n",
    "h = (x_1 - x_0) / N\n",
    "\n",
    "difference_grid = np.linspace(x_0, x_1, N + 1)\n",
    "\n",
    "# Доделать\n",
    "# 1. Якобиан\n",
    "# 2. Начальное условие, удовлетворяющее краевым условиям"
   ],
   "id": "5d96dbc91ee533f9",
   "outputs": [],
   "execution_count": null
  }
 ],
 "metadata": {
  "kernelspec": {
   "display_name": "Python 3",
   "language": "python",
   "name": "python3"
  },
  "language_info": {
   "codemirror_mode": {
    "name": "ipython",
    "version": 2
   },
   "file_extension": ".py",
   "mimetype": "text/x-python",
   "name": "python",
   "nbconvert_exporter": "python",
   "pygments_lexer": "ipython2",
   "version": "2.7.6"
  }
 },
 "nbformat": 4,
 "nbformat_minor": 5
}
