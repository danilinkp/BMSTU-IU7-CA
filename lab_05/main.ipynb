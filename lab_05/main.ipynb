{
 "cells": [
  {
   "metadata": {},
   "cell_type": "markdown",
   "source": [
    "# Задание 1\n",
    "Сравнить точность численного определения интеграла от функции, имеющей разрыв производной (при k=1)\n",
    "$$ \\int_{-1}^{1} |x|^k \\, dx $$где показатель степени в подинтегральной функции $k=1$ и $2$."
   ],
   "id": "e8fbb1d51898be9"
  },
  {
   "metadata": {
    "ExecuteTime": {
     "end_time": "2025-05-09T15:05:54.184590Z",
     "start_time": "2025-05-09T15:05:54.029834Z"
    }
   },
   "cell_type": "code",
   "source": "from integral_functions import trapezoid_method, simpson_method, gauss_method",
   "id": "dd3144e46dbb3b3d",
   "outputs": [],
   "execution_count": 1
  },
  {
   "metadata": {
    "ExecuteTime": {
     "end_time": "2025-05-09T15:05:54.401502Z",
     "start_time": "2025-05-09T15:05:54.391006Z"
    }
   },
   "cell_type": "code",
   "source": [
    "def f_1(x: float) -> float:\n",
    "    return abs(x)\n",
    "\n",
    "\n",
    "def f_2(x: float) -> float:\n",
    "    return abs(x) ** 2\n",
    "\n",
    "\n",
    "trapezoid_res_1 = trapezoid_method(f_1, -1, 1, 2)\n",
    "simpson_res_1 = simpson_method(f_1, -1, 1, 2)\n",
    "gauss_res_1 = gauss_method(f_1, -1, 1, 2)\n",
    "\n",
    "trapezoid_res_2 = trapezoid_method(f_2, -1, 1, 2)\n",
    "simpson_res_2 = simpson_method(f_2, -1, 1, 2)\n",
    "gauss_res_2 = gauss_method(f_2, -1, 1, 2)\n",
    "\n",
    "print(\"При k = 1\")\n",
    "print(f\"trapezoid method: {trapezoid_res_1}\")\n",
    "print(f\"simpson method: {simpson_res_1}\")\n",
    "print(f\"gauss method: {gauss_res_1}\")\n",
    "print(\"---------\")\n",
    "print(\"При k = 2\")\n",
    "print(f\"trapezoid method: {trapezoid_res_2}\")\n",
    "print(f\"simpson method: {simpson_res_2}\")\n",
    "print(f\"gauss method: {gauss_res_2}\")"
   ],
   "id": "e40455f2de45088b",
   "outputs": [
    {
     "name": "stdout",
     "output_type": "stream",
     "text": [
      "При k = 1\n",
      "trapezoid method: 1.0\n",
      "simpson method: 0.6666666666666666\n",
      "gauss method: 1.1547005383792508\n",
      "---------\n",
      "При k = 2\n",
      "trapezoid method: 1.0\n",
      "simpson method: 0.6666666666666666\n",
      "gauss method: 0.6666666666666662\n"
     ]
    }
   ],
   "execution_count": 2
  },
  {
   "metadata": {},
   "cell_type": "markdown",
   "source": [
    "# Задание 2\n",
    "Построить алгоритм и программу для вычисления двукратного интеграла\n",
    "$$\n",
    "I = \\iint_{G} f(x, y) \\,dx\\,dy\n",
    "$$\n",
    "по области G, ограниченной функциями $\\phi(x)$ и $\\psi(x)$ и прямыми $x=a$ и $x=b$.\n",
    "\n",
    "Функция $z = f(x, y)$ задана таблично в файле, $\\phi(x)=\\alpha x^2$, $\\psi(x) = \\beta x^2$\n",
    "параметры $\\alpha$, $\\beta$ задаются пользователем. Для отладки принять $\\alpha = 1$, $\\beta = 4$, $a = 0$, $b = 2$.\n",
    "\n",
    "Применить метод последовательного интегрирования с автоматическим выбором шага с использованием по обоим направлениям формулы Гаусса и формулы Симпсона"
   ],
   "id": "a611baebf365a3f5"
  },
  {
   "metadata": {
    "ExecuteTime": {
     "end_time": "2025-05-09T15:06:12.924927Z",
     "start_time": "2025-05-09T15:06:12.773381Z"
    }
   },
   "cell_type": "code",
   "source": [
    "from function_read import read_function\n",
    "from double_integral import double_integral"
   ],
   "id": "c99642843771bc06",
   "outputs": [],
   "execution_count": 1
  },
  {
   "metadata": {
    "ExecuteTime": {
     "end_time": "2025-05-09T15:06:17.993038Z",
     "start_time": "2025-05-09T15:06:17.886738Z"
    }
   },
   "cell_type": "code",
   "source": [
    "alpha = 1\n",
    "beta = 4\n",
    "\n",
    "a = 0\n",
    "b = 2\n",
    "\n",
    "\n",
    "def phi(x: float) -> float:\n",
    "    return alpha * x ** 2\n",
    "\n",
    "\n",
    "def psi(x: float) -> float:\n",
    "    return beta * x ** 2\n",
    "\n",
    "\n",
    "z, x_points, y_points = read_function(\"data/function.txt\")\n",
    "\n",
    "print(\"Оба направления по формуле Симпсона по 10 точек:\", end=\" \")\n",
    "result_simpson = double_integral(z, x_points, y_points, a, b, phi, psi)\n",
    "print(result_simpson)\n",
    "\n",
    "print(\"Оба направления по формуле Гаусса по 10 точек:\", end=\" \")\n",
    "result_gauss = double_integral(z, x_points, y_points, a, b, phi, psi, \"gauss\", \"gauss\")\n",
    "print(result_gauss)"
   ],
   "id": "8a6b66e4b2059a2e",
   "outputs": [
    {
     "name": "stdout",
     "output_type": "stream",
     "text": [
      "Оба направления по формуле Симпсона по 10 точек: 28.370272151546413\n",
      "Оба направления по формуле Гаусса по 10 точек: 28.37054186017226\n"
     ]
    }
   ],
   "execution_count": 3
  },
  {
   "metadata": {
    "ExecuteTime": {
     "end_time": "2025-05-09T15:05:54.648628Z",
     "start_time": "2025-05-09T15:05:54.644855Z"
    }
   },
   "cell_type": "code",
   "source": "",
   "id": "b0a20ca07a87ff72",
   "outputs": [],
   "execution_count": null
  }
 ],
 "metadata": {
  "kernelspec": {
   "display_name": "Python 3",
   "language": "python",
   "name": "python3"
  },
  "language_info": {
   "codemirror_mode": {
    "name": "ipython",
    "version": 2
   },
   "file_extension": ".py",
   "mimetype": "text/x-python",
   "name": "python",
   "nbconvert_exporter": "python",
   "pygments_lexer": "ipython2",
   "version": "2.7.6"
  }
 },
 "nbformat": 4,
 "nbformat_minor": 5
}
