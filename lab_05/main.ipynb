{
 "cells": [
  {
   "metadata": {},
   "cell_type": "markdown",
   "source": [
    "# Задание 1\n",
    "Сравнить точность численного определения интеграла от функции, имеющей разрыв производной (при k=1)\n",
    "$$ \\int_{-1}^{1} |x|^k \\, dx $$где показатель степени в подинтегральной функции $k=1$ и $2$."
   ],
   "id": "e8fbb1d51898be9"
  },
  {
   "metadata": {
    "ExecuteTime": {
     "end_time": "2025-05-08T22:08:01.384291Z",
     "start_time": "2025-05-08T22:08:01.185003Z"
    }
   },
   "cell_type": "code",
   "source": "from integral_functions import trapezoid_method, simpson_method, gauss_method",
   "id": "dd3144e46dbb3b3d",
   "outputs": [],
   "execution_count": 3
  },
  {
   "metadata": {
    "ExecuteTime": {
     "end_time": "2025-05-08T22:20:17.029012Z",
     "start_time": "2025-05-08T22:20:17.007184Z"
    }
   },
   "cell_type": "code",
   "source": [
    "def f_1(x: float) -> float:\n",
    "    return abs(x)\n",
    "\n",
    "def f_2(x: float) -> float:\n",
    "    return abs(x) ** 2\n",
    "\n",
    "trapezoid_res_1 = trapezoid_method(f_1, -1, 1, 2)\n",
    "simpson_res_1 = simpson_method(f_1, -1, 1, 2)\n",
    "gauss_res_1 = gauss_method(f_1, -1, 1, 2)\n",
    "\n",
    "trapezoid_res_2 = trapezoid_method(f_2, -1, 1, 2)\n",
    "simpson_res_2 = simpson_method(f_2, -1, 1, 2)\n",
    "gauss_res_2 = gauss_method(f_2, -1, 1, 2)\n",
    "\n",
    "print(\"При k = 1\")\n",
    "print(f\"trapezoid method: {trapezoid_res_1}\")\n",
    "print(f\"simpson method: {simpson_res_1}\")\n",
    "print(f\"gauss method: {gauss_res_1}\")\n",
    "print(\"---------\")\n",
    "print(\"При k = 2\")\n",
    "print(f\"trapezoid method: {trapezoid_res_2}\")\n",
    "print(f\"simpson method: {simpson_res_2}\")\n",
    "print(f\"gauss method: {gauss_res_2}\")"
   ],
   "id": "e40455f2de45088b",
   "outputs": [
    {
     "name": "stdout",
     "output_type": "stream",
     "text": [
      "При k = 1\n",
      "trapezoid method: 1.0\n",
      "simpson method: 0.6666666666666666\n",
      "gauss method: 1.1547005383792508\n",
      "---------\n",
      "При k = 2\n",
      "trapezoid method: 1.0\n",
      "simpson method: 0.6666666666666666\n",
      "gauss method: 0.6666666666666662\n"
     ]
    }
   ],
   "execution_count": 6
  },
  {
   "metadata": {},
   "cell_type": "markdown",
   "source": [
    "# Задание 2\n",
    "Построить алгоритм и программу для вычисления двукратного интеграла\n",
    "$$\n",
    "I = \\iint_{G} f(x, y) \\,dx\\,dy\n",
    "$$\n",
    "по области G, ограниченной функциями $\\phi(x)$ и $\\psi(x)$ и прямыми $x=a$ и $x=b$.\n",
    "\n",
    "Функция $z = f(x, y)$ задана таблично в файле, $\\phi(x)=\\alpha x^2$, $\\psi(x) = \\beta x^2$\n",
    "параметры $\\alpha$, $\\beta$ задаются пользователем. Для отладки принять $\\alpha = 1$, $\\beta = 4$, $a = 0$, $b = 2$.\n",
    "\n",
    "Применить метод последовательного интегрирования с автоматическим выбором шага с использованием по обоим направлениям формулы Гаусса и формулы Симпсона"
   ],
   "id": "a611baebf365a3f5"
  },
  {
   "metadata": {
    "ExecuteTime": {
     "end_time": "2025-05-08T22:08:01.481024Z",
     "start_time": "2025-05-08T22:08:01.477277Z"
    }
   },
   "cell_type": "code",
   "source": [
    "alpha = 1\n",
    "beta = 4\n",
    "\n",
    "a = 0\n",
    "b = 2\n",
    "\n",
    "def phi(x: float) -> float:\n",
    "    return alpha * x ** 2\n",
    "\n",
    "def psi(x: float) -> float:\n",
    "    return beta * x ** 2\n",
    "\n"
   ],
   "id": "8a6b66e4b2059a2e",
   "outputs": [],
   "execution_count": null
  }
 ],
 "metadata": {
  "kernelspec": {
   "display_name": "Python 3",
   "language": "python",
   "name": "python3"
  },
  "language_info": {
   "codemirror_mode": {
    "name": "ipython",
    "version": 2
   },
   "file_extension": ".py",
   "mimetype": "text/x-python",
   "name": "python",
   "nbconvert_exporter": "python",
   "pygments_lexer": "ipython2",
   "version": "2.7.6"
  }
 },
 "nbformat": 4,
 "nbformat_minor": 5
}
