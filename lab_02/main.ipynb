{
 "cells": [
  {
   "cell_type": "code",
   "id": "b7b4101c-f90a-4903-b269-cb4c2038b47e",
   "metadata": {
    "ExecuteTime": {
     "end_time": "2025-03-14T08:29:41.738876Z",
     "start_time": "2025-03-14T08:29:41.735256Z"
    }
   },
   "source": [
    "from io_tools import read_matrix\n",
    "from multidimensional_interpolation import interpolate_3d_newton, interpolate_3d_spline, mixed_interpolation"
   ],
   "outputs": [],
   "execution_count": 2
  },
  {
   "cell_type": "markdown",
   "id": "1b84c594-6be4-4156-a661-d8da7e87893a",
   "metadata": {},
   "source": [
    "## Чтение данных с файла"
   ]
  },
  {
   "cell_type": "code",
   "id": "fa470644-f37c-4639-96e1-064c43e11571",
   "metadata": {
    "ExecuteTime": {
     "end_time": "2025-03-14T08:29:41.775978Z",
     "start_time": "2025-03-14T08:29:41.771671Z"
    }
   },
   "source": "function = read_matrix(\"data/data.txt\")",
   "outputs": [],
   "execution_count": 3
  },
  {
   "cell_type": "markdown",
   "id": "fb51e737-5694-4f66-b9db-b631089e4bcf",
   "metadata": {},
   "source": [
    "## Вычисление значений"
   ]
  },
  {
   "cell_type": "code",
   "id": "1ccac848-c992-4761-a9d2-bb3bec2cc05d",
   "metadata": {
    "ExecuteTime": {
     "end_time": "2025-03-15T09:21:54.740132Z",
     "start_time": "2025-03-15T09:21:54.732562Z"
    }
   },
   "source": [
    "types_for_mixed = [\"newton\", \"spline\", \"newton\"]\n",
    "args = [1.5, 1.5, 1.5]\n",
    "degrees = [1, 1, 1]\n",
    "\n",
    "# print(f\"Интерполяция полиномом: {interpolate_3d_newton(args, degrees, function)}\")\n",
    "# print(f\"Интерполяция сплайнами: {interpolate_3d_spline(args, function)}\")\n",
    "# print(f\"Смешанная интерполяция: {mixed_interpolation(args, degrees, function, types_for_mixed)}\")"
   ],
   "outputs": [],
   "execution_count": 1
  }
 ],
 "metadata": {
  "kernelspec": {
   "display_name": "Python 3 (ipykernel)",
   "language": "python",
   "name": "python3"
  },
  "language_info": {
   "codemirror_mode": {
    "name": "ipython",
    "version": 3
   },
   "file_extension": ".py",
   "mimetype": "text/x-python",
   "name": "python",
   "nbconvert_exporter": "python",
   "pygments_lexer": "ipython3",
   "version": "3.13.2"
  }
 },
 "nbformat": 4,
 "nbformat_minor": 5
}
