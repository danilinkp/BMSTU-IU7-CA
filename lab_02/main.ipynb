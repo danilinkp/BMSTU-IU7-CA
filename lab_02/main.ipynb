{
 "cells": [
  {
   "cell_type": "code",
   "id": "b7b4101c-f90a-4903-b269-cb4c2038b47e",
   "metadata": {
    "ExecuteTime": {
     "end_time": "2025-03-13T12:07:04.376662Z",
     "start_time": "2025-03-13T12:07:04.250586Z"
    }
   },
   "source": [
    "from io_tools import read_matrix\n",
    "from multidimensional_interpolation import interpolate_3d_newton, interpolate_3d_spline, mixed_interpolation"
   ],
   "outputs": [],
   "execution_count": 1
  },
  {
   "cell_type": "markdown",
   "id": "1b84c594-6be4-4156-a661-d8da7e87893a",
   "metadata": {},
   "source": [
    "## Чтение данных с файла"
   ]
  },
  {
   "cell_type": "code",
   "id": "fa470644-f37c-4639-96e1-064c43e11571",
   "metadata": {
    "ExecuteTime": {
     "end_time": "2025-03-13T12:07:05.270373Z",
     "start_time": "2025-03-13T12:07:05.266350Z"
    }
   },
   "source": "function = read_matrix(\"data/data.txt\")",
   "outputs": [],
   "execution_count": 2
  },
  {
   "cell_type": "markdown",
   "id": "fb51e737-5694-4f66-b9db-b631089e4bcf",
   "metadata": {},
   "source": [
    "## Вычисление значений"
   ]
  },
  {
   "cell_type": "code",
   "id": "1ccac848-c992-4761-a9d2-bb3bec2cc05d",
   "metadata": {
    "ExecuteTime": {
     "end_time": "2025-03-13T12:07:45.900069Z",
     "start_time": "2025-03-13T12:07:45.894272Z"
    }
   },
   "source": [
    "types_for_mixed = [\"newton\", \"spline\", \"newton\"]\n",
    "args = [1.5, 1.5, 1.5]\n",
    "degrees = [3, 3, 3]\n",
    "\n",
    "print(f\"Интерполяция полиномом: {interpolate_3d_newton(args, degrees, function)}\")\n",
    "print(f\"Интерполяция сплайнами: {interpolate_3d_spline(args, function)}\")\n",
    "print(f\"Смешанная интерполяция: {mixed_interpolation(args, degrees, function, types_for_mixed)}\")"
   ],
   "outputs": [
    {
     "name": "stdout",
     "output_type": "stream",
     "text": [
      "Интерполяция полиномом: 6.75\n",
      "Интерполяция сплайнами: 6.2142857142857135\n",
      "Смешанная интерполяция: 6.571428571428571\n"
     ]
    }
   ],
   "execution_count": 7
  },
  {
   "metadata": {},
   "cell_type": "code",
   "outputs": [],
   "execution_count": null,
   "source": "",
   "id": "a3426b9f5a74a9b2"
  }
 ],
 "metadata": {
  "kernelspec": {
   "display_name": "Python 3 (ipykernel)",
   "language": "python",
   "name": "python3"
  },
  "language_info": {
   "codemirror_mode": {
    "name": "ipython",
    "version": 3
   },
   "file_extension": ".py",
   "mimetype": "text/x-python",
   "name": "python",
   "nbconvert_exporter": "python",
   "pygments_lexer": "ipython3",
   "version": "3.13.2"
  }
 },
 "nbformat": 4,
 "nbformat_minor": 5
}
