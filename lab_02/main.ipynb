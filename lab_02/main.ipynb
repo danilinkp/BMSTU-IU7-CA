{
 "cells": [
  {
   "cell_type": "markdown",
   "id": "f25fb3e7-35ea-495a-8ddb-7f05d062e2ac",
   "metadata": {},
   "source": [
    "## Импорт нужных вещей"
   ]
  },
  {
   "cell_type": "code",
   "execution_count": 9,
   "id": "b7b4101c-f90a-4903-b269-cb4c2038b47e",
   "metadata": {},
   "outputs": [],
   "source": [
    "from io_tools import read_matrix\n",
    "from multidimensional_interpolation import *"
   ]
  },
  {
   "cell_type": "markdown",
   "id": "1b84c594-6be4-4156-a661-d8da7e87893a",
   "metadata": {},
   "source": [
    "## Чтение данных с файла"
   ]
  },
  {
   "cell_type": "code",
   "execution_count": 10,
   "id": "fa470644-f37c-4639-96e1-064c43e11571",
   "metadata": {},
   "outputs": [],
   "source": [
    "function = read_matrix(\"data/data.txt\")"
   ]
  },
  {
   "cell_type": "markdown",
   "id": "fb51e737-5694-4f66-b9db-b631089e4bcf",
   "metadata": {},
   "source": [
    "## Вычисление значений"
   ]
  },
  {
   "cell_type": "code",
   "execution_count": 13,
   "id": "1ccac848-c992-4761-a9d2-bb3bec2cc05d",
   "metadata": {},
   "outputs": [
    {
     "name": "stdout",
     "output_type": "stream",
     "text": [
      "6.75\n",
      "6.696428571428569\n"
     ]
    }
   ],
   "source": [
    "print(interpolate_3d_newton(1.5, 1.5, 1.5, 4, 4, 4, function))\n",
    "print(interpolate_3d_spline(1.5, 1.5, 1.5, function))"
   ]
  }
 ],
 "metadata": {
  "kernelspec": {
   "display_name": "Python 3 (ipykernel)",
   "language": "python",
   "name": "python3"
  },
  "language_info": {
   "codemirror_mode": {
    "name": "ipython",
    "version": 3
   },
   "file_extension": ".py",
   "mimetype": "text/x-python",
   "name": "python",
   "nbconvert_exporter": "python",
   "pygments_lexer": "ipython3",
   "version": "3.13.2"
  }
 },
 "nbformat": 4,
 "nbformat_minor": 5
}
